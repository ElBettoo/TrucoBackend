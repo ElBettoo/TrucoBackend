{
 "cells": [
  {
   "cell_type": "code",
   "execution_count": 8,
   "metadata": {},
   "outputs": [
    {
     "name": "stdout",
     "output_type": "stream",
     "text": [
      "User(username='porky1') es EMPRESARIO\n",
      "User(username='porky1')\n"
     ]
    }
   ],
   "source": [
    "from dataclasses import dataclass\n",
    "\n",
    "@dataclass\n",
    "class Rol:\n",
    "    user: object\n",
    "    nombre: str\n",
    "\n",
    "    def __str__(self):\n",
    "        return f\"{self.user} es {self.nombre}\"\n",
    "\n",
    "\n",
    "@dataclass\n",
    "class User:\n",
    "    username: str\n",
    "\n",
    "porky = User(\"porky1\")\n",
    "porky_rol = Rol(porky, \"EMPRESARIO\")\n",
    "\n",
    "print(porky_rol)\n",
    "print(porky)"
   ]
  }
 ],
 "metadata": {
  "kernelspec": {
   "display_name": "Python 3",
   "language": "python",
   "name": "python3"
  },
  "language_info": {
   "codemirror_mode": {
    "name": "ipython",
    "version": 3
   },
   "file_extension": ".py",
   "mimetype": "text/x-python",
   "name": "python",
   "nbconvert_exporter": "python",
   "pygments_lexer": "ipython3",
   "version": "3.12.0"
  }
 },
 "nbformat": 4,
 "nbformat_minor": 2
}

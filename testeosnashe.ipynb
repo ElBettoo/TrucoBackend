{
 "cells": [
  {
   "cell_type": "code",
   "execution_count": 10,
   "metadata": {},
   "outputs": [
    {
     "name": "stdout",
     "output_type": "stream",
     "text": [
      "True\n",
      "True\n"
     ]
    }
   ],
   "source": [
    "from dataclasses import dataclass, field\n",
    "\n",
    "@dataclass\n",
    "class User():\n",
    "    _lista: list[str]\n",
    "\n",
    "    @property\n",
    "    def lista(self):\n",
    "        return self._lista\n",
    "    \n",
    "\n",
    "    \n",
    "porky = User([\"adoquin\"])\n",
    "porky2 = User([\"adoquin\"])\n",
    "lista = []\n",
    "lista.append(porky2)\n",
    "\n",
    "print(porky == porky2)\n",
    "print(porky in lista)"
   ]
  }
 ],
 "metadata": {
  "kernelspec": {
   "display_name": "Python 3",
   "language": "python",
   "name": "python3"
  },
  "language_info": {
   "codemirror_mode": {
    "name": "ipython",
    "version": 3
   },
   "file_extension": ".py",
   "mimetype": "text/x-python",
   "name": "python",
   "nbconvert_exporter": "python",
   "pygments_lexer": "ipython3",
   "version": "3.12.0"
  }
 },
 "nbformat": 4,
 "nbformat_minor": 2
}
